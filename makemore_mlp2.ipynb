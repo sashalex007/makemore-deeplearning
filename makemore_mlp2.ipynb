{
  "cells": [
    {
      "cell_type": "markdown",
      "metadata": {
        "id": "view-in-github",
        "colab_type": "text"
      },
      "source": [
        "<a href=\"https://colab.research.google.com/github/sashalex007/makemore-deeplearning/blob/main/makemore_mlp2.ipynb\" target=\"_parent\"><img src=\"https://colab.research.google.com/assets/colab-badge.svg\" alt=\"Open In Colab\"/></a>"
      ]
    },
    {
      "cell_type": "code",
      "execution_count": null,
      "id": "07059781-d156-4080-86be-d88db2220261",
      "metadata": {
        "id": "07059781-d156-4080-86be-d88db2220261"
      },
      "outputs": [],
      "source": [
        "import torch\n",
        "import torch.nn.functional as F\n",
        "import matplotlib.pyplot as plt\n",
        "%matplotlib inline"
      ]
    },
    {
      "cell_type": "code",
      "source": [
        "device = torch.device(\"cuda:0\" if torch.cuda.is_available() else \"cpu\")\n",
        "print(device)"
      ],
      "metadata": {
        "id": "Ubh55x6jvztv"
      },
      "id": "Ubh55x6jvztv",
      "execution_count": null,
      "outputs": []
    },
    {
      "cell_type": "code",
      "source": [
        "import os\n",
        "words = []\n",
        "if os.path.isfile('Documents/deep_learning/names.txt'):\n",
        "  words = open('Documents/deep_learning/names.txt', 'r').read().splitlines()\n",
        "else:\n",
        "  from google.colab import drive\n",
        "  drive.mount('/content/drive')\n",
        "  words = open('/content/drive/MyDrive/colab_files/names.txt', 'r').read().splitlines()\n",
        "words[:8]"
      ],
      "metadata": {
        "id": "nDy0g7z-7P51"
      },
      "id": "nDy0g7z-7P51",
      "execution_count": null,
      "outputs": []
    },
    {
      "cell_type": "code",
      "execution_count": null,
      "id": "bb344498-04fa-42f0-9bd8-3e6cd7cf37c9",
      "metadata": {
        "id": "bb344498-04fa-42f0-9bd8-3e6cd7cf37c9"
      },
      "outputs": [],
      "source": [
        "len(words)"
      ]
    },
    {
      "cell_type": "code",
      "execution_count": null,
      "id": "ac2f0c6e-786e-4383-939e-d904215e6def",
      "metadata": {
        "id": "ac2f0c6e-786e-4383-939e-d904215e6def"
      },
      "outputs": [],
      "source": [
        "chars = sorted(list(set(''.join(words))))\n",
        "stoi = {s:i+1 for i, s in enumerate(chars)}\n",
        "stoi['.'] = 0\n",
        "itos = {i:s for s,i in stoi.items()}\n",
        "print(itos)"
      ]
    },
    {
      "cell_type": "code",
      "execution_count": null,
      "id": "68613abb-cf01-46ef-a9ee-d3971b2cf31e",
      "metadata": {
        "id": "68613abb-cf01-46ef-a9ee-d3971b2cf31e"
      },
      "outputs": [],
      "source": [
        "def build_dataset(words):\n",
        "    block_size = 4\n",
        "    X, Y = [], []\n",
        "    for w in words:\n",
        "        context = [0] * block_size\n",
        "        for ch in w + '.':\n",
        "            ix = stoi[ch]\n",
        "            X.append(context)\n",
        "            Y.append(ix)\n",
        "            context = context[1:] + [ix]\n",
        "    X = torch.tensor(X).to(device)\n",
        "    Y = torch.tensor(Y).to(device)\n",
        "    print(X.shape, Y.shape)\n",
        "    return X, Y\n",
        "\n",
        "import random\n",
        "random.seed(42)\n",
        "random.shuffle(words)\n",
        "n1 = int(0.8*len(words))\n",
        "n2 = int(0.9*len(words))\n",
        "\n",
        "Xtr, Ytr = build_dataset(words[:n1])\n",
        "Xdev, Ydev = build_dataset(words[n1:n2])\n",
        "Xte, Yte = build_dataset(words[n2:])\n"
      ]
    },
    {
      "cell_type": "code",
      "execution_count": null,
      "id": "6c8b1918-a478-4d59-87e8-6849fb89b861",
      "metadata": {
        "id": "6c8b1918-a478-4d59-87e8-6849fb89b861"
      },
      "outputs": [],
      "source": [
        "Xtr.shape, Ytr.shape"
      ]
    },
    {
      "cell_type": "code",
      "execution_count": null,
      "id": "e1302943-5151-484c-a8e2-d5ac65b3bb37",
      "metadata": {
        "id": "e1302943-5151-484c-a8e2-d5ac65b3bb37"
      },
      "outputs": [],
      "source": [
        "C = torch.randn(27, 20).to(device)\n",
        "W1 = torch.randn(80, 120).to(device)\n",
        "b1 = torch.randn(120).to(device)\n",
        "W2 = torch.randn(120, 27).to(device)\n",
        "b2 = torch.randn(27).to(device)\n",
        "parameters = [C, W1, b1, W2, b2]"
      ]
    },
    {
      "cell_type": "code",
      "execution_count": null,
      "id": "36c6d9ea-2502-4f11-b9da-fb1a0cc135fa",
      "metadata": {
        "id": "36c6d9ea-2502-4f11-b9da-fb1a0cc135fa"
      },
      "outputs": [],
      "source": [
        "for p in parameters:\n",
        "    p.requires_grad = True"
      ]
    },
    {
      "cell_type": "code",
      "execution_count": null,
      "id": "8e0006ae-0a20-4e49-8028-4489c77bb0ca",
      "metadata": {
        "id": "8e0006ae-0a20-4e49-8028-4489c77bb0ca"
      },
      "outputs": [],
      "source": [
        "for i in range(100000):\n",
        "\n",
        "    ix = torch.randint(0, Xtr.shape[0], (32,))\n",
        "\n",
        "    emb = C[Xtr[ix]]\n",
        "    h = torch.tanh(emb.view(-1, 80) @ W1 + b1)\n",
        "\n",
        "    logits = h @ W2 + b2\n",
        "    loss = F.cross_entropy(logits, Ytr[ix])\n",
        "    for p in parameters:\n",
        "        p.grad = None\n",
        "    loss.backward()\n",
        "\n",
        "    lr = 0.00001\n",
        "    for p in parameters:\n",
        "        p.data += -lr*p.grad\n",
        "\n",
        "emb = C[Xtr]\n",
        "h = torch.tanh(emb.view(-1, 80) @ W1 + b1)\n",
        "logits = h @ W2 + b2\n",
        "loss = F.cross_entropy(logits, Ytr)\n",
        "loss.item()"
      ]
    },
    {
      "cell_type": "code",
      "execution_count": null,
      "id": "ddc771f3-28e7-4b14-977e-73287603f4cc",
      "metadata": {
        "scrolled": true,
        "id": "ddc771f3-28e7-4b14-977e-73287603f4cc"
      },
      "outputs": [],
      "source": [
        "emb = C[Xdev]\n",
        "h = torch.tanh(emb.view(-1, 80) @ W1 + b1)\n",
        "logits = h @ W2 + b2\n",
        "loss = F.cross_entropy(logits, Ydev)\n",
        "loss.item()"
      ]
    },
    {
      "cell_type": "code",
      "source": [
        "emb = C[Xte]\n",
        "h = torch.tanh(emb.view(-1, 80) @ W1 + b1)\n",
        "logits = h @ W2 + b2\n",
        "loss = F.cross_entropy(logits, Yte)\n",
        "loss.item()"
      ],
      "metadata": {
        "id": "RdFM72x9DSp6"
      },
      "id": "RdFM72x9DSp6",
      "execution_count": null,
      "outputs": []
    },
    {
      "cell_type": "code",
      "execution_count": null,
      "id": "2b722c27-5d42-4f2d-955b-979cd2bd9a6b",
      "metadata": {
        "id": "2b722c27-5d42-4f2d-955b-979cd2bd9a6b"
      },
      "outputs": [],
      "source": [
        "for _ in range(20):\n",
        "    block_size = 4\n",
        "    out = []\n",
        "    context = [0] * block_size\n",
        "    while True:\n",
        "        emb = C[torch.tensor([context])]\n",
        "        h = torch.tanh(emb.view(1, -1) @ W1 + b1)\n",
        "        logits = h @ W2 + b2\n",
        "        probs = F.softmax(logits, dim=1)\n",
        "        ix = torch.multinomial(probs, num_samples=1).item()\n",
        "        context = context[1:] + [ix]\n",
        "        out.append(ix)\n",
        "        if ix == 0:\n",
        "            break\n",
        "    print(''.join(itos[i] for i in out))"
      ]
    }
  ],
  "metadata": {
    "kernelspec": {
      "display_name": "Python 3",
      "name": "python3"
    },
    "language_info": {
      "codemirror_mode": {
        "name": "ipython",
        "version": 3
      },
      "file_extension": ".py",
      "mimetype": "text/x-python",
      "name": "python",
      "nbconvert_exporter": "python",
      "pygments_lexer": "ipython3",
      "version": "3.10.12"
    },
    "colab": {
      "provenance": [],
      "include_colab_link": true
    }
  },
  "nbformat": 4,
  "nbformat_minor": 5
}