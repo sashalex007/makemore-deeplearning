{
  "cells": [
    {
      "cell_type": "markdown",
      "metadata": {
        "id": "view-in-github",
        "colab_type": "text"
      },
      "source": [
        "<a href=\"https://colab.research.google.com/github/sashalex007/makemore-deeplearning/blob/main/makemore_mlp2.ipynb\" target=\"_parent\"><img src=\"https://colab.research.google.com/assets/colab-badge.svg\" alt=\"Open In Colab\"/></a>"
      ]
    },
    {
      "cell_type": "code",
      "execution_count": null,
      "id": "07059781-d156-4080-86be-d88db2220261",
      "metadata": {
        "id": "07059781-d156-4080-86be-d88db2220261"
      },
      "outputs": [],
      "source": [
        "import torch\n",
        "import torch.nn.functional as F\n",
        "import matplotlib.pyplot as plt\n",
        "%matplotlib inline"
      ]
    },
    {
      "cell_type": "code",
      "source": [
        "device = torch.device(\"cuda:0\" if torch.cuda.is_available() else \"cpu\")\n",
        "print(device)\n",
        "%cd"
      ],
      "metadata": {
        "id": "Ubh55x6jvztv",
        "colab": {
          "base_uri": "https://localhost:8080/"
        },
        "outputId": "b2fd82a9-6e5b-4a48-9741-4db188d41240"
      },
      "id": "Ubh55x6jvztv",
      "execution_count": null,
      "outputs": [
        {
          "output_type": "stream",
          "name": "stdout",
          "text": [
            "cpu\n",
            "C:\\Users\\Alexandre Pokhodoun\n"
          ]
        }
      ]
    },
    {
      "cell_type": "code",
      "source": [
        "import os\n",
        "words = []\n",
        "if os.path.isfile('Documents/deep_learning/names.txt'):\n",
        "  words = open('Documents/deep_learning/names.txt', 'r').read().splitlines()\n",
        "else:\n",
        "  from google.colab import drive\n",
        "  drive.mount('/content/drive')\n",
        "  words = open('/content/drive/MyDrive/colab_files/names.txt', 'r').read().splitlines()\n",
        "words[:8]"
      ],
      "metadata": {
        "id": "nDy0g7z-7P51",
        "colab": {
          "base_uri": "https://localhost:8080/"
        },
        "outputId": "993037a4-5d83-464b-ef63-aa28ec54c3fa"
      },
      "id": "nDy0g7z-7P51",
      "execution_count": null,
      "outputs": [
        {
          "output_type": "execute_result",
          "data": {
            "text/plain": [
              "['emma', 'olivia', 'ava', 'isabella', 'sophia', 'charlotte', 'mia', 'amelia']"
            ]
          },
          "metadata": {},
          "execution_count": 85
        }
      ]
    },
    {
      "cell_type": "code",
      "execution_count": null,
      "id": "bb344498-04fa-42f0-9bd8-3e6cd7cf37c9",
      "metadata": {
        "id": "bb344498-04fa-42f0-9bd8-3e6cd7cf37c9",
        "colab": {
          "base_uri": "https://localhost:8080/"
        },
        "outputId": "ec470d4a-a269-4194-f814-a100850ded33"
      },
      "outputs": [
        {
          "output_type": "execute_result",
          "data": {
            "text/plain": [
              "32033"
            ]
          },
          "metadata": {},
          "execution_count": 86
        }
      ],
      "source": [
        "len(words)"
      ]
    },
    {
      "cell_type": "code",
      "execution_count": null,
      "id": "ac2f0c6e-786e-4383-939e-d904215e6def",
      "metadata": {
        "id": "ac2f0c6e-786e-4383-939e-d904215e6def"
      },
      "outputs": [],
      "source": [
        "chars = sorted(list(set(''.join(words))))\n",
        "stoi = {s:i+1 for i, s in enumerate(chars)}\n",
        "stoi['.'] = 0\n",
        "itos = {i:s for s,i in stoi.items()}\n"
      ]
    },
    {
      "cell_type": "code",
      "execution_count": 161,
      "id": "68613abb-cf01-46ef-a9ee-d3971b2cf31e",
      "metadata": {
        "id": "68613abb-cf01-46ef-a9ee-d3971b2cf31e",
        "colab": {
          "base_uri": "https://localhost:8080/"
        },
        "outputId": "0218eb01-7405-41b2-9291-583bd6dc2c12"
      },
      "outputs": [
        {
          "output_type": "stream",
          "name": "stdout",
          "text": [
            "torch.Size([182580, 3]) torch.Size([182580])\n",
            "torch.Size([22767, 3]) torch.Size([22767])\n",
            "torch.Size([22799, 3]) torch.Size([22799])\n"
          ]
        }
      ],
      "source": [
        "block_size = 3\n",
        "def build_dataset(words):\n",
        "    X, Y = [], []\n",
        "    for w in words:\n",
        "        context = [0] * block_size\n",
        "        for ch in w + '.':\n",
        "            ix = stoi[ch]\n",
        "            X.append(context)\n",
        "            Y.append(ix)\n",
        "            context = context[1:] + [ix]\n",
        "    X = torch.tensor(X).to(device)\n",
        "    Y = torch.tensor(Y).to(device)\n",
        "    print(X.shape, Y.shape)\n",
        "    return X, Y\n",
        "\n",
        "import random\n",
        "random.seed(42)\n",
        "random.shuffle(words)\n",
        "n1 = int(0.8*len(words))\n",
        "n2 = int(0.9*len(words))\n",
        "\n",
        "Xtr, Ytr = build_dataset(words[:n1])\n",
        "Xdev, Ydev = build_dataset(words[n1:n2])\n",
        "Xte, Yte = build_dataset(words[n2:])\n"
      ]
    },
    {
      "cell_type": "code",
      "execution_count": 191,
      "id": "6c8b1918-a478-4d59-87e8-6849fb89b861",
      "metadata": {
        "id": "6c8b1918-a478-4d59-87e8-6849fb89b861"
      },
      "outputs": [],
      "source": [
        "class Linear:\n",
        "    def __init__(self, fan_in, fan_out, bias=True):\n",
        "        self.weight = torch.randn(fan_in, fan_out) / fan_in**0.5\n",
        "        self.bias = torch.zeros(fan_out) if bias else None\n",
        "\n",
        "    def __call__(self, x):\n",
        "        self.out = x @ self.weight\n",
        "        if self.bias is not None:\n",
        "            self.out += self.bias\n",
        "        return self.out\n",
        "\n",
        "    def parameters(self):\n",
        "        return [self.weight] + ([] if self.bias is None else [self.bias])\n"
      ]
    },
    {
      "cell_type": "code",
      "source": [
        "class BatchNorm1d:\n",
        "    def __init__(self, dim, eps=1e-5, momentum=0.1):\n",
        "        self.eps = eps\n",
        "        self.momentum = momentum\n",
        "        self.training = True\n",
        "        self.gamma = torch.ones(dim)\n",
        "        self.beta = torch.zeros(dim)\n",
        "        self.running_mean = torch.zeros(dim)\n",
        "        self.running_var = torch.ones(dim)\n",
        "\n",
        "    def __call__(self, x):\n",
        "        if self.training:\n",
        "            xmean = x.mean(0, keepdim=True)\n",
        "            xvar = x.var(0, keepdim=True, unbiased=True)\n",
        "        else:\n",
        "            xmean = self.running_mean\n",
        "            xvar = self.running_var\n",
        "        xhat = (x-xmean) / torch.sqrt(xvar + self.eps)\n",
        "        self.out = self.gamma* xhat + self.beta\n",
        "        if self.training:\n",
        "            with torch.no_grad():\n",
        "                self.running_mean = (1 - self.momentum) * self.running_mean + self.momentum * xmean\n",
        "                self.running_var = (1 - self.momentum) * self.running_var + self.momentum * xvar\n",
        "        return self.out\n",
        "\n",
        "    def parameters(self):\n",
        "        return [self.gamma, self.beta]"
      ],
      "metadata": {
        "id": "BY9b53Jk2yfo"
      },
      "id": "BY9b53Jk2yfo",
      "execution_count": 192,
      "outputs": []
    },
    {
      "cell_type": "code",
      "source": [
        "class Tanh:\n",
        "    def __call__(self, x):\n",
        "        self.out = torch.tanh(x)\n",
        "        return self.out\n",
        "    def parameters(self):\n",
        "        return []"
      ],
      "metadata": {
        "id": "UT3-CCZV7SNl"
      },
      "id": "UT3-CCZV7SNl",
      "execution_count": 193,
      "outputs": []
    },
    {
      "cell_type": "code",
      "source": [
        "vocab_size = 27\n",
        "n_embd = 10\n",
        "n_hidden = 100\n",
        "C = torch.randn(vocab_size, n_embd)\n",
        "layers = [\n",
        "    Linear(n_embd * block_size, n_hidden, bias=False), BatchNorm1d(n_hidden), Tanh(),\n",
        "    Linear(n_hidden, n_hidden, bias=False), BatchNorm1d(n_hidden), Tanh(),\n",
        "    Linear(n_hidden, n_hidden, bias=False), BatchNorm1d(n_hidden), Tanh(),\n",
        "    Linear(n_hidden, n_hidden, bias=False), BatchNorm1d(n_hidden), Tanh(),\n",
        "    Linear(n_hidden, n_hidden, bias=False), BatchNorm1d(n_hidden), Tanh(),\n",
        "    Linear(n_hidden, vocab_size, bias=False), BatchNorm1d(vocab_size),\n",
        "]\n",
        "\n",
        "with torch.no_grad():\n",
        "    layers[-1].gamma *= 0.1\n",
        "    for layer in layers[:-1]:\n",
        "        if isinstance(layer, Linear):\n",
        "            layer.weight *= 1.0\n",
        "parameters = [C] + [p for layer in layers for p in layer.parameters()]\n",
        "print(sum(p.nelement() for p in parameters))\n",
        "for p in parameters:\n",
        "    p.requires_grad = True"
      ],
      "metadata": {
        "colab": {
          "base_uri": "https://localhost:8080/"
        },
        "id": "Q6hkL6R05Tk1",
        "outputId": "0aeaa539-6ce5-41e4-8f14-3ac7caa68305"
      },
      "id": "Q6hkL6R05Tk1",
      "execution_count": 200,
      "outputs": [
        {
          "output_type": "stream",
          "name": "stdout",
          "text": [
            "47024\n"
          ]
        }
      ]
    },
    {
      "cell_type": "code",
      "execution_count": null,
      "id": "8e0006ae-0a20-4e49-8028-4489c77bb0ca",
      "metadata": {
        "id": "8e0006ae-0a20-4e49-8028-4489c77bb0ca"
      },
      "outputs": [],
      "source": [
        "max_steps = 200000\n",
        "batch_size = 32\n",
        "lossi = []\n",
        "for i in range(max_steps):\n",
        "\n",
        "    ix = torch.randint(0, Xtr.shape[0], (batch_size,))\n",
        "    emb = C[Xtr[ix]]\n",
        "    x = emb.view(emb.shape[0], -1)\n",
        "    for layer in layers:\n",
        "        x = layer(x)\n",
        "    loss = F.cross_entropy(x, Ytr[ix])\n",
        "\n",
        "    for layer in layers:\n",
        "        layer.out.retain_grad()\n",
        "    for p in parameters:\n",
        "        p.grad = None\n",
        "    loss.backward()\n",
        "\n",
        "    lr = 0.1 if i < 10000 else 0.01\n",
        "    for p in parameters:\n",
        "        p.data += -lr*p.grad\n",
        "\n",
        "    if i % 1000 == 0:\n",
        "        pass\n",
        "        print(f'{i:7d}/{max_steps:7d}: {loss.item():.4f}')\n",
        "    lossi.append(loss.log10().item)\n"
      ]
    },
    {
      "cell_type": "code",
      "execution_count": 208,
      "id": "ddc771f3-28e7-4b14-977e-73287603f4cc",
      "metadata": {
        "scrolled": true,
        "id": "ddc771f3-28e7-4b14-977e-73287603f4cc",
        "colab": {
          "base_uri": "https://localhost:8080/"
        },
        "outputId": "acba5059-2182-47f8-cffb-fa17d18507d6"
      },
      "outputs": [
        {
          "output_type": "stream",
          "name": "stdout",
          "text": [
            "train 2.0527126789093018\n",
            "val 2.105297803878784\n"
          ]
        }
      ],
      "source": [
        "@torch.no_grad() # this decorator disables gradient tracking\n",
        "def split_loss(split):\n",
        "  x,y = {\n",
        "    'train': (Xtr, Ytr),\n",
        "    'val': (Xdev, Ydev),\n",
        "    'test': (Xte, Yte),\n",
        "  }[split]\n",
        "  emb = C[x] # (N, block_size, n_embd)\n",
        "  x = emb.view(emb.shape[0], -1) # concat into (N, block_size * n_embd)\n",
        "  for layer in layers:\n",
        "    x = layer(x)\n",
        "  loss = F.cross_entropy(x, y)\n",
        "  print(split, loss.item())\n",
        "\n",
        "# put layers into eval mode\n",
        "for layer in layers:\n",
        "  layer.training = False\n",
        "split_loss('train')\n",
        "split_loss('val')"
      ]
    },
    {
      "cell_type": "code",
      "execution_count": 206,
      "id": "2b722c27-5d42-4f2d-955b-979cd2bd9a6b",
      "metadata": {
        "id": "2b722c27-5d42-4f2d-955b-979cd2bd9a6b",
        "colab": {
          "base_uri": "https://localhost:8080/"
        },
        "outputId": "e679c5ee-b99d-4d55-e244-452c08d2f072"
      },
      "outputs": [
        {
          "output_type": "stream",
          "name": "stdout",
          "text": [
            "avdriel.\n",
            "arm.\n",
            "duca.\n",
            "fai.\n",
            "aroevi.\n",
            "ryanaraalynn.\n",
            "layten.\n",
            "brael.\n",
            "samyra.\n",
            "vad.\n",
            "mayerubess.\n",
            "jaiya.\n",
            "khas.\n",
            "navioue.\n",
            "jaleira.\n",
            "ney.\n",
            "naston.\n",
            "bria.\n",
            "chan.\n",
            "elani.\n"
          ]
        }
      ],
      "source": [
        "for _ in range(20):\n",
        "\n",
        "    out = []\n",
        "    context = [0] * block_size # initialize with all ...\n",
        "    while True:\n",
        "      # forward pass the neural net\n",
        "      emb = C[torch.tensor([context])] # (1,block_size,n_embd)\n",
        "      x = emb.view(emb.shape[0], -1) # concatenate the vectors\n",
        "      for layer in layers:\n",
        "        x = layer(x)\n",
        "      logits = x\n",
        "      probs = F.softmax(logits, dim=1)\n",
        "      # sample from the distribution\n",
        "      ix = torch.multinomial(probs, num_samples=1).item()\n",
        "      # shift the context window and track the samples\n",
        "      context = context[1:] + [ix]\n",
        "      out.append(ix)\n",
        "      # if we sample the special '.' token, break\n",
        "      if ix == 0:\n",
        "        break\n",
        "\n",
        "    print(''.join(itos[i] for i in out)) # decode and print the generated word"
      ]
    },
    {
      "cell_type": "code",
      "source": [
        "# BatchNorm forward pass as a widget\n",
        "\n",
        "from ipywidgets import interact, interactive, fixed, interact_manual\n",
        "import ipywidgets as widgets\n",
        "import scipy.stats as stats\n",
        "import numpy as np\n",
        "\n",
        "def normshow(x0):\n",
        "\n",
        "  g = torch.Generator().manual_seed(2147483647+1)\n",
        "  x = torch.randn(5, generator=g) * 5\n",
        "  x[0] = x0 # override the 0th example with the slider\n",
        "  mu = x.mean()\n",
        "  sig = x.std()\n",
        "  y = (x - mu)/sig\n",
        "\n",
        "  plt.figure(figsize=(10, 5))\n",
        "  # plot 0\n",
        "  plt.plot([-6,6], [0,0], 'k')\n",
        "  # plot the mean and std\n",
        "  xx = np.linspace(-6, 6, 100)\n",
        "  plt.plot(xx, stats.norm.pdf(xx, mu, sig), 'b')\n",
        "  xx = np.linspace(-6, 6, 100)\n",
        "  plt.plot(xx, stats.norm.pdf(xx, 0, 1), 'r')\n",
        "  # plot little lines connecting input and output\n",
        "  for i in range(len(x)):\n",
        "    plt.plot([x[i],y[i]], [1, 0], 'k', alpha=0.2)\n",
        "  # plot the input and output values\n",
        "  plt.scatter(x.data, torch.ones_like(x).data, c='b', s=100)\n",
        "  plt.scatter(y.data, torch.zeros_like(y).data, c='r', s=100)\n",
        "  plt.xlim(-6, 6)\n",
        "  # title\n",
        "  plt.title('input mu %.2f std %.2f' % (mu, sig))\n",
        "\n",
        "interact(normshow, x0=(-30,30,0.5));"
      ],
      "metadata": {
        "id": "-Z8pyj1j_7af",
        "colab": {
          "base_uri": "https://localhost:8080/",
          "height": 498,
          "referenced_widgets": [
            "fe50cb9d9f6a4f54ab62334397a8aeb5",
            "53da72ee30d74e569a24b0c50b96ff0f",
            "9ec56142262941528ad78d53d2f47228",
            "8b273aaa9dad42a4a509f73275f17fe0",
            "193f99f38198426091ae30f4a01e0975",
            "ffdb92945a8e401cbfbe216af9673b9c",
            "b58ab8b0cd45451f8159d5d0c794bef2"
          ]
        },
        "outputId": "ac866ce3-7a10-47bf-9b4a-d2d5695ac13e"
      },
      "id": "-Z8pyj1j_7af",
      "execution_count": 207,
      "outputs": [
        {
          "output_type": "display_data",
          "data": {
            "text/plain": [
              "interactive(children=(FloatSlider(value=0.0, description='x0', max=30.0, min=-30.0, step=0.5), Output()), _dom…"
            ],
            "application/vnd.jupyter.widget-view+json": {
              "version_major": 2,
              "version_minor": 0,
              "model_id": "fe50cb9d9f6a4f54ab62334397a8aeb5"
            }
          },
          "metadata": {}
        }
      ]
    }
  ],
  "metadata": {
    "kernelspec": {
      "display_name": "Python 3",
      "name": "python3"
    },
    "language_info": {
      "codemirror_mode": {
        "name": "ipython",
        "version": 3
      },
      "file_extension": ".py",
      "mimetype": "text/x-python",
      "name": "python",
      "nbconvert_exporter": "python",
      "pygments_lexer": "ipython3",
      "version": "3.10.12"
    },
    "colab": {
      "provenance": [],
      "include_colab_link": true
    },
    "widgets": {
      "application/vnd.jupyter.widget-state+json": {
        "fe50cb9d9f6a4f54ab62334397a8aeb5": {
          "model_module": "@jupyter-widgets/controls",
          "model_name": "VBoxModel",
          "model_module_version": "2.0.0",
          "state": {
            "_dom_classes": [
              "widget-interact"
            ],
            "_model_module": "@jupyter-widgets/controls",
            "_model_module_version": "2.0.0",
            "_model_name": "VBoxModel",
            "_view_count": null,
            "_view_module": "@jupyter-widgets/controls",
            "_view_module_version": "2.0.0",
            "_view_name": "VBoxView",
            "box_style": "",
            "children": [
              "IPY_MODEL_53da72ee30d74e569a24b0c50b96ff0f",
              "IPY_MODEL_9ec56142262941528ad78d53d2f47228"
            ],
            "layout": "IPY_MODEL_8b273aaa9dad42a4a509f73275f17fe0",
            "tabbable": null,
            "tooltip": null
          }
        },
        "53da72ee30d74e569a24b0c50b96ff0f": {
          "model_module": "@jupyter-widgets/controls",
          "model_name": "FloatSliderModel",
          "model_module_version": "2.0.0",
          "state": {
            "_dom_classes": [],
            "_model_module": "@jupyter-widgets/controls",
            "_model_module_version": "2.0.0",
            "_model_name": "FloatSliderModel",
            "_view_count": null,
            "_view_module": "@jupyter-widgets/controls",
            "_view_module_version": "2.0.0",
            "_view_name": "FloatSliderView",
            "behavior": "drag-tap",
            "continuous_update": true,
            "description": "x0",
            "description_allow_html": false,
            "disabled": false,
            "layout": "IPY_MODEL_193f99f38198426091ae30f4a01e0975",
            "max": 30,
            "min": -30,
            "orientation": "horizontal",
            "readout": true,
            "readout_format": ".2f",
            "step": 0.5,
            "style": "IPY_MODEL_ffdb92945a8e401cbfbe216af9673b9c",
            "tabbable": null,
            "tooltip": null,
            "value": -2.5
          }
        },
        "9ec56142262941528ad78d53d2f47228": {
          "model_module": "@jupyter-widgets/output",
          "model_name": "OutputModel",
          "model_module_version": "1.0.0",
          "state": {
            "_dom_classes": [],
            "_model_module": "@jupyter-widgets/output",
            "_model_module_version": "1.0.0",
            "_model_name": "OutputModel",
            "_view_count": null,
            "_view_module": "@jupyter-widgets/output",
            "_view_module_version": "1.0.0",
            "_view_name": "OutputView",
            "layout": "IPY_MODEL_b58ab8b0cd45451f8159d5d0c794bef2",
            "msg_id": "",
            "outputs": [
              {
                "output_type": "display_data",
                "data": {
                  "text/plain": "<Figure size 1000x500 with 1 Axes>",
                  "image/png": "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"
                },
                "metadata": {}
              }
            ],
            "tabbable": null,
            "tooltip": null
          }
        },
        "8b273aaa9dad42a4a509f73275f17fe0": {
          "model_module": "@jupyter-widgets/base",
          "model_name": "LayoutModel",
          "model_module_version": "2.0.0",
          "state": {
            "_model_module": "@jupyter-widgets/base",
            "_model_module_version": "2.0.0",
            "_model_name": "LayoutModel",
            "_view_count": null,
            "_view_module": "@jupyter-widgets/base",
            "_view_module_version": "2.0.0",
            "_view_name": "LayoutView",
            "align_content": null,
            "align_items": null,
            "align_self": null,
            "border_bottom": null,
            "border_left": null,
            "border_right": null,
            "border_top": null,
            "bottom": null,
            "display": null,
            "flex": null,
            "flex_flow": null,
            "grid_area": null,
            "grid_auto_columns": null,
            "grid_auto_flow": null,
            "grid_auto_rows": null,
            "grid_column": null,
            "grid_gap": null,
            "grid_row": null,
            "grid_template_areas": null,
            "grid_template_columns": null,
            "grid_template_rows": null,
            "height": null,
            "justify_content": null,
            "justify_items": null,
            "left": null,
            "margin": null,
            "max_height": null,
            "max_width": null,
            "min_height": null,
            "min_width": null,
            "object_fit": null,
            "object_position": null,
            "order": null,
            "overflow": null,
            "padding": null,
            "right": null,
            "top": null,
            "visibility": null,
            "width": null
          }
        },
        "193f99f38198426091ae30f4a01e0975": {
          "model_module": "@jupyter-widgets/base",
          "model_name": "LayoutModel",
          "model_module_version": "2.0.0",
          "state": {
            "_model_module": "@jupyter-widgets/base",
            "_model_module_version": "2.0.0",
            "_model_name": "LayoutModel",
            "_view_count": null,
            "_view_module": "@jupyter-widgets/base",
            "_view_module_version": "2.0.0",
            "_view_name": "LayoutView",
            "align_content": null,
            "align_items": null,
            "align_self": null,
            "border_bottom": null,
            "border_left": null,
            "border_right": null,
            "border_top": null,
            "bottom": null,
            "display": null,
            "flex": null,
            "flex_flow": null,
            "grid_area": null,
            "grid_auto_columns": null,
            "grid_auto_flow": null,
            "grid_auto_rows": null,
            "grid_column": null,
            "grid_gap": null,
            "grid_row": null,
            "grid_template_areas": null,
            "grid_template_columns": null,
            "grid_template_rows": null,
            "height": null,
            "justify_content": null,
            "justify_items": null,
            "left": null,
            "margin": null,
            "max_height": null,
            "max_width": null,
            "min_height": null,
            "min_width": null,
            "object_fit": null,
            "object_position": null,
            "order": null,
            "overflow": null,
            "padding": null,
            "right": null,
            "top": null,
            "visibility": null,
            "width": null
          }
        },
        "ffdb92945a8e401cbfbe216af9673b9c": {
          "model_module": "@jupyter-widgets/controls",
          "model_name": "SliderStyleModel",
          "model_module_version": "2.0.0",
          "state": {
            "_model_module": "@jupyter-widgets/controls",
            "_model_module_version": "2.0.0",
            "_model_name": "SliderStyleModel",
            "_view_count": null,
            "_view_module": "@jupyter-widgets/base",
            "_view_module_version": "2.0.0",
            "_view_name": "StyleView",
            "description_width": "",
            "handle_color": null
          }
        },
        "b58ab8b0cd45451f8159d5d0c794bef2": {
          "model_module": "@jupyter-widgets/base",
          "model_name": "LayoutModel",
          "model_module_version": "2.0.0",
          "state": {
            "_model_module": "@jupyter-widgets/base",
            "_model_module_version": "2.0.0",
            "_model_name": "LayoutModel",
            "_view_count": null,
            "_view_module": "@jupyter-widgets/base",
            "_view_module_version": "2.0.0",
            "_view_name": "LayoutView",
            "align_content": null,
            "align_items": null,
            "align_self": null,
            "border_bottom": null,
            "border_left": null,
            "border_right": null,
            "border_top": null,
            "bottom": null,
            "display": null,
            "flex": null,
            "flex_flow": null,
            "grid_area": null,
            "grid_auto_columns": null,
            "grid_auto_flow": null,
            "grid_auto_rows": null,
            "grid_column": null,
            "grid_gap": null,
            "grid_row": null,
            "grid_template_areas": null,
            "grid_template_columns": null,
            "grid_template_rows": null,
            "height": null,
            "justify_content": null,
            "justify_items": null,
            "left": null,
            "margin": null,
            "max_height": null,
            "max_width": null,
            "min_height": null,
            "min_width": null,
            "object_fit": null,
            "object_position": null,
            "order": null,
            "overflow": null,
            "padding": null,
            "right": null,
            "top": null,
            "visibility": null,
            "width": null
          }
        }
      }
    }
  },
  "nbformat": 4,
  "nbformat_minor": 5
}